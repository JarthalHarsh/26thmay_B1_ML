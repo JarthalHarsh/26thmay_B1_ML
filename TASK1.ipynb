{
 "cells": [
  {
   "cell_type": "code",
   "execution_count": 91,
   "metadata": {},
   "outputs": [],
   "source": [
    "import pandas as pd\n",
    "import numpy as np"
   ]
  },
  {
   "cell_type": "code",
   "execution_count": 92,
   "metadata": {},
   "outputs": [
    {
     "data": {
      "text/html": [
       "<div>\n",
       "<style scoped>\n",
       "    .dataframe tbody tr th:only-of-type {\n",
       "        vertical-align: middle;\n",
       "    }\n",
       "\n",
       "    .dataframe tbody tr th {\n",
       "        vertical-align: top;\n",
       "    }\n",
       "\n",
       "    .dataframe thead th {\n",
       "        text-align: right;\n",
       "    }\n",
       "</style>\n",
       "<table border=\"1\" class=\"dataframe\">\n",
       "  <thead>\n",
       "    <tr style=\"text-align: right;\">\n",
       "      <th></th>\n",
       "      <th>ID</th>\n",
       "      <th>NAMES</th>\n",
       "      <th>CUISINE</th>\n",
       "      <th>PLACE</th>\n",
       "      <th>TASTE</th>\n",
       "      <th>COLOR</th>\n",
       "      <th>PRICE(RS)</th>\n",
       "    </tr>\n",
       "  </thead>\n",
       "  <tbody>\n",
       "    <tr>\n",
       "      <th>0</th>\n",
       "      <td>0</td>\n",
       "      <td>Dal-bati</td>\n",
       "      <td>Rajasthani</td>\n",
       "      <td>Jaipur</td>\n",
       "      <td>spicy</td>\n",
       "      <td>green</td>\n",
       "      <td>300</td>\n",
       "    </tr>\n",
       "    <tr>\n",
       "      <th>1</th>\n",
       "      <td>1</td>\n",
       "      <td>Kadamb</td>\n",
       "      <td>Konkani</td>\n",
       "      <td>Indore</td>\n",
       "      <td>sweet</td>\n",
       "      <td>white</td>\n",
       "      <td>250</td>\n",
       "    </tr>\n",
       "    <tr>\n",
       "      <th>2</th>\n",
       "      <td>2</td>\n",
       "      <td>kadabu</td>\n",
       "      <td>Malenadu</td>\n",
       "      <td>Karnataka</td>\n",
       "      <td>spicy</td>\n",
       "      <td>yellow</td>\n",
       "      <td>350</td>\n",
       "    </tr>\n",
       "    <tr>\n",
       "      <th>3</th>\n",
       "      <td>3</td>\n",
       "      <td>Pakhala</td>\n",
       "      <td>Odia</td>\n",
       "      <td>Orissa</td>\n",
       "      <td>creamy</td>\n",
       "      <td>white</td>\n",
       "      <td>250</td>\n",
       "    </tr>\n",
       "    <tr>\n",
       "      <th>4</th>\n",
       "      <td>4</td>\n",
       "      <td>rasam</td>\n",
       "      <td>Telangana</td>\n",
       "      <td>Telangana</td>\n",
       "      <td>sweet</td>\n",
       "      <td>yellow</td>\n",
       "      <td>400</td>\n",
       "    </tr>\n",
       "    <tr>\n",
       "      <th>5</th>\n",
       "      <td>5</td>\n",
       "      <td>Kozhi</td>\n",
       "      <td>Mappila</td>\n",
       "      <td>Kerala</td>\n",
       "      <td>sour</td>\n",
       "      <td>brown</td>\n",
       "      <td>350</td>\n",
       "    </tr>\n",
       "    <tr>\n",
       "      <th>6</th>\n",
       "      <td>6</td>\n",
       "      <td>Khichdi</td>\n",
       "      <td>Kathiawadi</td>\n",
       "      <td>Gujarat</td>\n",
       "      <td>sweet</td>\n",
       "      <td>white</td>\n",
       "      <td>300</td>\n",
       "    </tr>\n",
       "    <tr>\n",
       "      <th>7</th>\n",
       "      <td>7</td>\n",
       "      <td>Dhansak</td>\n",
       "      <td>Parsi</td>\n",
       "      <td>Lucknow</td>\n",
       "      <td>spicy</td>\n",
       "      <td>red</td>\n",
       "      <td>270</td>\n",
       "    </tr>\n",
       "    <tr>\n",
       "      <th>8</th>\n",
       "      <td>8</td>\n",
       "      <td>Kabargah</td>\n",
       "      <td>Kashmiri</td>\n",
       "      <td>Kashmir</td>\n",
       "      <td>spicy</td>\n",
       "      <td>red</td>\n",
       "      <td>330</td>\n",
       "    </tr>\n",
       "    <tr>\n",
       "      <th>9</th>\n",
       "      <td>9</td>\n",
       "      <td>Chainsoo</td>\n",
       "      <td>Malvani</td>\n",
       "      <td>Uttarakhand</td>\n",
       "      <td>sweet</td>\n",
       "      <td>yellow</td>\n",
       "      <td>350</td>\n",
       "    </tr>\n",
       "    <tr>\n",
       "      <th>10</th>\n",
       "      <td>10</td>\n",
       "      <td>Solkadhi</td>\n",
       "      <td>Naga</td>\n",
       "      <td>Goa</td>\n",
       "      <td>sweet</td>\n",
       "      <td>white</td>\n",
       "      <td>400</td>\n",
       "    </tr>\n",
       "    <tr>\n",
       "      <th>11</th>\n",
       "      <td>11</td>\n",
       "      <td>Zutho</td>\n",
       "      <td>Kumaoni</td>\n",
       "      <td>Indore</td>\n",
       "      <td>creamy</td>\n",
       "      <td>white</td>\n",
       "      <td>250</td>\n",
       "    </tr>\n",
       "    <tr>\n",
       "      <th>12</th>\n",
       "      <td>12</td>\n",
       "      <td>Gutke</td>\n",
       "      <td>Sindhi</td>\n",
       "      <td>Sindh</td>\n",
       "      <td>spicy</td>\n",
       "      <td>red</td>\n",
       "      <td>300</td>\n",
       "    </tr>\n",
       "    <tr>\n",
       "      <th>13</th>\n",
       "      <td>13</td>\n",
       "      <td>Kheer</td>\n",
       "      <td>Rajasthani</td>\n",
       "      <td>Jaipur</td>\n",
       "      <td>sweet</td>\n",
       "      <td>white</td>\n",
       "      <td>250</td>\n",
       "    </tr>\n",
       "  </tbody>\n",
       "</table>\n",
       "</div>"
      ],
      "text/plain": [
       "    ID     NAMES     CUISINE        PLACE   TASTE   COLOR  PRICE(RS)\n",
       "0    0  Dal-bati  Rajasthani       Jaipur   spicy   green        300\n",
       "1    1    Kadamb     Konkani       Indore   sweet   white        250\n",
       "2    2    kadabu    Malenadu    Karnataka   spicy  yellow        350\n",
       "3    3   Pakhala        Odia       Orissa  creamy   white        250\n",
       "4    4     rasam   Telangana    Telangana   sweet  yellow        400\n",
       "5    5     Kozhi     Mappila       Kerala    sour   brown        350\n",
       "6    6   Khichdi  Kathiawadi      Gujarat   sweet   white        300\n",
       "7    7   Dhansak       Parsi      Lucknow   spicy     red        270\n",
       "8    8  Kabargah    Kashmiri      Kashmir   spicy     red        330\n",
       "9    9  Chainsoo     Malvani  Uttarakhand   sweet  yellow        350\n",
       "10  10  Solkadhi        Naga          Goa   sweet   white        400\n",
       "11  11     Zutho     Kumaoni       Indore  creamy   white        250\n",
       "12  12     Gutke      Sindhi        Sindh   spicy     red        300\n",
       "13  13     Kheer  Rajasthani       Jaipur   sweet   white        250"
      ]
     },
     "execution_count": 92,
     "metadata": {},
     "output_type": "execute_result"
    }
   ],
   "source": [
    "df=pd.read_excel('Task1.xlsx')\n",
    "df"
   ]
  },
  {
   "cell_type": "code",
   "execution_count": 93,
   "metadata": {},
   "outputs": [
    {
     "name": "stdout",
     "output_type": "stream",
     "text": [
      "rasam\n",
      "Solkadhi\n"
     ]
    }
   ],
   "source": [
    "#Costliest Food\n",
    "max_value=df['PRICE(RS)'].max()\n",
    "for i in range(0,len(df.index)):\n",
    "    if df['PRICE(RS)'][i]==max_value:\n",
    "        print(df[\"NAMES\"][i])"
   ]
  },
  {
   "cell_type": "code",
   "execution_count": 106,
   "metadata": {},
   "outputs": [
    {
     "name": "stdout",
     "output_type": "stream",
     "text": [
      "1     Kadamb\n",
      "13     Kheer\n",
      "Name: NAMES, dtype: object\n"
     ]
    }
   ],
   "source": [
    "#Cheapest Sweet\n",
    "filter=df['TASTE']=='sweet'\n",
    "min_value=df['PRICE(RS)'].where(filter).min()\n",
    "print(df.loc[np.where((df['TASTE']=='sweet') & (df['PRICE(RS)']==min_value))]['NAMES'])"
   ]
  },
  {
   "cell_type": "code",
   "execution_count": 107,
   "metadata": {},
   "outputs": [
    {
     "name": "stdout",
     "output_type": "stream",
     "text": [
      "13    Kheer\n",
      "Name: NAMES, dtype: object\n"
     ]
    }
   ],
   "source": [
    "#White Food Found In Jaipur\n",
    "print(df.loc[np.where((df['COLOR']=='white') & (df['PLACE']=='Jaipur'))]['NAMES'])"
   ]
  },
  {
   "cell_type": "code",
   "execution_count": 123,
   "metadata": {},
   "outputs": [
    {
     "name": "stdout",
     "output_type": "stream",
     "text": [
      "Rajasthani    2\n",
      "Name: CUISINE, dtype: int64\n"
     ]
    }
   ],
   "source": [
    "#Which Cousine is most popular\n",
    "print(df['CUISINE'].value_counts()[df['CUISINE'].value_counts() == df['CUISINE'].value_counts().max()])"
   ]
  },
  {
   "cell_type": "code",
   "execution_count": 125,
   "metadata": {},
   "outputs": [
    {
     "name": "stdout",
     "output_type": "stream",
     "text": [
      "sweet     6\n",
      "spicy     5\n",
      "creamy    2\n",
      "sour      1\n",
      "Name: TASTE, dtype: int64\n"
     ]
    }
   ],
   "source": [
    "#Counts of different tastes for foods\n",
    "print(df['TASTE'].value_counts()[:5].sort_values(ascending=False))"
   ]
  },
  {
   "cell_type": "code",
   "execution_count": 127,
   "metadata": {},
   "outputs": [
    {
     "name": "stdout",
     "output_type": "stream",
     "text": [
      "1    Kadamb\n",
      "Name: NAMES, dtype: object\n"
     ]
    }
   ],
   "source": [
    "#Food which is available in Indore and taste is sweet\n",
    "print(df.loc[np.where((df['TASTE']=='sweet') & (df['PLACE']=='Indore'))]['NAMES'])"
   ]
  },
  {
   "cell_type": "code",
   "execution_count": null,
   "metadata": {},
   "outputs": [],
   "source": []
  }
 ],
 "metadata": {
  "kernelspec": {
   "display_name": "Python 3",
   "language": "python",
   "name": "python3"
  },
  "language_info": {
   "codemirror_mode": {
    "name": "ipython",
    "version": 3
   },
   "file_extension": ".py",
   "mimetype": "text/x-python",
   "name": "python",
   "nbconvert_exporter": "python",
   "pygments_lexer": "ipython3",
   "version": "3.6.5"
  }
 },
 "nbformat": 4,
 "nbformat_minor": 2
}
